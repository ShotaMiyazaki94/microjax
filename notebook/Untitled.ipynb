{
 "cells": [
  {
   "cell_type": "code",
   "execution_count": 1,
   "id": "c25c214b-a5e7-4786-886b-90664e64b1d4",
   "metadata": {
    "execution": {
     "iopub.execute_input": "2024-03-27T09:34:18.708827Z",
     "iopub.status.busy": "2024-03-27T09:34:18.708677Z",
     "iopub.status.idle": "2024-03-27T09:34:20.688561Z",
     "shell.execute_reply": "2024-03-27T09:34:20.688159Z",
     "shell.execute_reply.started": "2024-03-27T09:34:18.708810Z"
    }
   },
   "outputs": [],
   "source": [
    "import jax\n",
    "import jax.numpy as jnp\n",
    "import matplotlib.pyplot as plt\n",
    "import numpy as np\n",
    "from microjax.fastlens.mag_fft_jax import magnification_disk, magnification_limb1,magnification_limb2\n",
    "from jax import jit, grad, vmap\n",
    "import timeit\n",
    "jax.config.update(\"jax_enable_x64\", True)\n",
    "import VBBinaryLensing\n",
    "import seaborn as sns\n",
    "sns.set_theme(font=\"serif\",font_scale=1.3,style=\"ticks\",)"
   ]
  },
  {
   "cell_type": "code",
   "execution_count": 2,
   "id": "f3cfa7e7-c022-4699-b4ad-29eaa76a3079",
   "metadata": {
    "execution": {
     "iopub.execute_input": "2024-03-27T09:34:20.689554Z",
     "iopub.status.busy": "2024-03-27T09:34:20.689336Z",
     "iopub.status.idle": "2024-03-27T09:34:22.777134Z",
     "shell.execute_reply": "2024-03-27T09:34:22.776153Z",
     "shell.execute_reply.started": "2024-03-27T09:34:20.689537Z"
    }
   },
   "outputs": [
    {
     "name": "stderr",
     "output_type": "stream",
     "text": [
      "WARNING: All log messages before absl::InitializeLog() is called are written to STDERR\n",
      "I0000 00:00:1711532060.698455       1 tfrt_cpu_pjrt_client.cc:349] TfrtCpuClient created.\n"
     ]
    },
    {
     "ename": "TypeError",
     "evalue": "__init__() got an unexpected keyword argument 'a1'",
     "output_type": "error",
     "traceback": [
      "\u001b[0;31m---------------------------------------------------------------------------\u001b[0m",
      "\u001b[0;31mTypeError\u001b[0m                                 Traceback (most recent call last)",
      "Input \u001b[0;32mIn [2]\u001b[0m, in \u001b[0;36m<module>\u001b[0;34m\u001b[0m\n\u001b[1;32m      2\u001b[0m VBBL\u001b[38;5;241m.\u001b[39mRelTol \u001b[38;5;241m=\u001b[39m \u001b[38;5;241m1e-6\u001b[39m\n\u001b[1;32m      3\u001b[0m mag_disk    \u001b[38;5;241m=\u001b[39m magnification_disk(rho_switch\u001b[38;5;241m=\u001b[39m\u001b[38;5;241m1e-5\u001b[39m)\n\u001b[0;32m----> 4\u001b[0m mag_limb1   \u001b[38;5;241m=\u001b[39m \u001b[43mmagnification_limb1\u001b[49m\u001b[43m(\u001b[49m\u001b[43mrho_switch\u001b[49m\u001b[38;5;241;43m=\u001b[39;49m\u001b[38;5;241;43m1e-5\u001b[39;49m\u001b[43m,\u001b[49m\u001b[43m \u001b[49m\u001b[43ma1\u001b[49m\u001b[38;5;241;43m=\u001b[39;49m\u001b[38;5;241;43m0.8\u001b[39;49m\u001b[43m)\u001b[49m\n\u001b[1;32m      5\u001b[0m mag_disk    \u001b[38;5;241m=\u001b[39m  jit(vmap(mag_disk\u001b[38;5;241m.\u001b[39mA))\n\u001b[1;32m      6\u001b[0m mag_limb    \u001b[38;5;241m=\u001b[39m  jit(vmap(mag_limb1\u001b[38;5;241m.\u001b[39mA))\n",
      "File \u001b[0;32m~/.pyenv/versions/3.9.5/lib/python3.9/site-packages/microjax/fastlens/mag_fft_jax.py:205\u001b[0m, in \u001b[0;36mmagnification_limb1.__init__\u001b[0;34m(self, **kwargs)\u001b[0m\n\u001b[1;32m    204\u001b[0m \u001b[38;5;28;01mdef\u001b[39;00m \u001b[38;5;21m__init__\u001b[39m(\u001b[38;5;28mself\u001b[39m, \u001b[38;5;241m*\u001b[39m\u001b[38;5;241m*\u001b[39mkwargs):\n\u001b[0;32m--> 205\u001b[0m     \u001b[38;5;28;43msuper\u001b[39;49m\u001b[43m(\u001b[49m\u001b[43m)\u001b[49m\u001b[38;5;241;43m.\u001b[39;49m\u001b[38;5;21;43m__init__\u001b[39;49m\u001b[43m(\u001b[49m\u001b[38;5;241;43m*\u001b[39;49m\u001b[38;5;241;43m*\u001b[39;49m\u001b[43mkwargs\u001b[49m\u001b[43m)\u001b[49m\n",
      "\u001b[0;31mTypeError\u001b[0m: __init__() got an unexpected keyword argument 'a1'"
     ]
    }
   ],
   "source": [
    "VBBL = VBBinaryLensing.VBBinaryLensing()\n",
    "VBBL.RelTol = 1e-6\n",
    "mag_disk    = magnification_disk(rho_switch=1e-5)\n",
    "mag_limb1   = magnification_limb1(rho_switch=1e-5, a1=0.8)\n",
    "mag_disk    =  jit(vmap(mag_disk.A))\n",
    "mag_limb    =  jit(vmap(mag_limb1.A))\n",
    "VBBL.LoadESPLTable(\"/Users/shotamiyazaki/Analysis/work/VBBinaryLensing/VBBinaryLensing/data/ESPL.tbl\")"
   ]
  },
  {
   "cell_type": "code",
   "execution_count": null,
   "id": "d44c85b5-1781-4439-b1c8-29af64b77ee8",
   "metadata": {
    "execution": {
     "iopub.status.busy": "2024-03-27T09:34:22.777649Z",
     "iopub.status.idle": "2024-03-27T09:34:22.778316Z",
     "shell.execute_reply": "2024-03-27T09:34:22.778162Z",
     "shell.execute_reply.started": "2024-03-27T09:34:22.778146Z"
    }
   },
   "outputs": [],
   "source": [
    "N_sample = 1000\n",
    "u   = jnp.array(np.random.uniform(0,1,N_sample))\n",
    "rho = jnp.array(10**np.random.uniform(-5,1,N_sample))\n",
    "\n",
    "%timeit -r 5 -n 1 mag = mag_disk(u,rho)\n",
    "%timeit -r 5 -n 1 mag = mag_limb(u,rho)"
   ]
  },
  {
   "cell_type": "code",
   "execution_count": null,
   "id": "8bfc2496-2479-4098-9f86-e2cdb3d11923",
   "metadata": {
    "execution": {
     "iopub.status.busy": "2024-03-27T09:34:22.779159Z",
     "iopub.status.idle": "2024-03-27T09:34:22.779368Z",
     "shell.execute_reply": "2024-03-27T09:34:22.779269Z",
     "shell.execute_reply.started": "2024-03-27T09:34:22.779259Z"
    }
   },
   "outputs": [],
   "source": [
    "%timeit -r 5 -n 1 mag_VB = [VBBL.ESPLMag(u_,rho_) for u_, rho_ in zip(u,rho)]\n",
    "%timeit -r 5 -n 1 mag_VB = [VBBL.ESPLMagDark(u_,rho_) for u_, rho_ in zip(u,rho)]"
   ]
  },
  {
   "cell_type": "code",
   "execution_count": null,
   "id": "726984fb-450b-4f33-a395-e9f5843807e7",
   "metadata": {
    "execution": {
     "iopub.status.busy": "2024-03-27T09:34:22.781019Z",
     "iopub.status.idle": "2024-03-27T09:34:22.781871Z",
     "shell.execute_reply": "2024-03-27T09:34:22.781614Z",
     "shell.execute_reply.started": "2024-03-27T09:34:22.781591Z"
    }
   },
   "outputs": [],
   "source": [
    "#plt.plot(u,mag_disk_(u,rho))\n",
    "#plt.plot(u,mag_limb1_(u,rho))\n",
    "#plt.plot(u,mag_limb2_(u,rho))\n",
    "\n",
    "mag_disk    = magnification_disk(rho_switch=1e-5)\n",
    "mag_limb1   = magnification_limb1(rho_switch=1e-5)\n",
    "mag_limb2   = magnification_limb2(rho_switch=1e-5)\n",
    "mag_disk_   =  jit(vmap(mag_disk.A))\n",
    "mag_limb1_  =  jit(vmap(mag_limb1.A))\n",
    "mag_limb2_  =  jit(vmap(mag_limb2.A))\n",
    "u_rho = np.logspace(-2,2,1000)\n",
    "\n",
    "plt.figure(figsize=(8,4))\n",
    "rho = 1e-3 * np.ones(1000)\n",
    "u = u_rho * rho\n",
    "mag_VB = np.array([VBBL.ESPLMag(u_,r_) for u_, r_ in zip(u, rho)])\n",
    "plt.plot(u_rho,np.abs(mag_VB - mag_disk_(u,rho).ravel()),\"-\")\n",
    "rho = 0.01 * np.ones(1000)\n",
    "u = u_rho * rho\n",
    "mag_VB = np.array([VBBL.ESPLMag(u_,r_) for u_, r_ in zip(u, rho)])\n",
    "plt.plot(u_rho,jnp.abs(mag_VB - mag_disk_(u,rho).ravel()),\"-\")\n",
    "rho = 0.1 * np.ones(1000)\n",
    "u = u_rho * rho\n",
    "mag_VB = np.array([VBBL.ESPLMag(u_,r_) for u_, r_ in zip(u, rho)])\n",
    "plt.plot(u_rho,np.abs(mag_VB - mag_disk_(u,rho).ravel()),\"-\")\n",
    "plt.xlabel(\"|u / rho|\")\n",
    "plt.loglog()\n",
    "plt.show()"
   ]
  },
  {
   "cell_type": "code",
   "execution_count": null,
   "id": "bf594000-f9c4-4416-b190-20a966352344",
   "metadata": {},
   "outputs": [],
   "source": []
  },
  {
   "cell_type": "code",
   "execution_count": null,
   "id": "7884c8f8-1753-43a0-8813-19e90f82e472",
   "metadata": {},
   "outputs": [],
   "source": []
  }
 ],
 "metadata": {
  "kernelspec": {
   "display_name": "Python 3",
   "language": "python",
   "name": "python3"
  },
  "language_info": {
   "codemirror_mode": {
    "name": "ipython",
    "version": 3
   },
   "file_extension": ".py",
   "mimetype": "text/x-python",
   "name": "python",
   "nbconvert_exporter": "python",
   "pygments_lexer": "ipython3",
   "version": "3.9.5"
  }
 },
 "nbformat": 4,
 "nbformat_minor": 5
}

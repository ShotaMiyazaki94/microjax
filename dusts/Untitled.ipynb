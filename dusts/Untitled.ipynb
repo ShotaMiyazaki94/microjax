{
 "cells": [
  {
   "cell_type": "code",
   "execution_count": 1,
   "id": "e46195bd-eb85-4f39-8e1e-02d74e492aed",
   "metadata": {
    "editable": true,
    "execution": {
     "iopub.execute_input": "2025-02-15T17:16:45.807362Z",
     "iopub.status.busy": "2025-02-15T17:16:45.806828Z",
     "iopub.status.idle": "2025-02-15T17:16:47.325998Z",
     "shell.execute_reply": "2025-02-15T17:16:47.325440Z",
     "shell.execute_reply.started": "2025-02-15T17:16:45.807345Z"
    },
    "slideshow": {
     "slide_type": ""
    },
    "tags": []
   },
   "outputs": [],
   "source": [
    "import jax.numpy as jnp\n",
    "from jax import jit, jacfwd, jacrev \n",
    "import jax\n",
    "jax.config.update(\"jax_enable_x64\", True)\n",
    "import matplotlib as mpl\n",
    "import matplotlib.pyplot as plt\n",
    "from mpl_toolkits.axes_grid1.inset_locator import inset_axes\n",
    "from matplotlib.ticker import AutoMinorLocator\n",
    "\n",
    "from microjax.inverse_ray.lightcurve import mag_lc_uniform, mag_lc\n",
    "from microjax.point_source import critical_and_caustic_curves\n",
    "\n",
    "# Parameters\n",
    "s  = 1.1  # separation between the two lenses in units of total ang. Einstein radii\n",
    "q  = 0.5  # mass ratio: mass of the lens on the right divided by mass of the lens on the left\n",
    "\n",
    "alpha = jnp.deg2rad(60) # angle between lens axis and source trajectory\n",
    "tE = 10.0 # einstein radius crossing time\n",
    "t0 = 0.0 # time of peak magnification\n",
    "u0 = 0.0 # impact parameter\n",
    "rho = 0.02\n",
    "a  = 0.5 * s\n",
    "e1 = q / (1.0 + q)\n",
    "\n",
    "# Position of the center of the source with respect to the center of mass.\n",
    "t  =  jnp.linspace(-22, 12, 500)"
   ]
  },
  {
   "cell_type": "code",
   "execution_count": 2,
   "id": "27ddfb36-44b3-424f-9a38-3997fd2d9328",
   "metadata": {
    "editable": true,
    "execution": {
     "iopub.execute_input": "2025-02-15T17:16:47.327279Z",
     "iopub.status.busy": "2025-02-15T17:16:47.327074Z",
     "iopub.status.idle": "2025-02-15T17:16:47.331433Z",
     "shell.execute_reply": "2025-02-15T17:16:47.330359Z",
     "shell.execute_reply.started": "2025-02-15T17:16:47.327261Z"
    },
    "slideshow": {
     "slide_type": ""
    },
    "tags": []
   },
   "outputs": [],
   "source": [
    "r_resolution  = 200\n",
    "th_resolution = 200"
   ]
  },
  {
   "cell_type": "code",
   "execution_count": 3,
   "id": "fc8ac5cb-ad15-45ed-9412-28e53ec8acac",
   "metadata": {
    "editable": true,
    "execution": {
     "iopub.execute_input": "2025-02-15T17:16:47.334249Z",
     "iopub.status.busy": "2025-02-15T17:16:47.334056Z",
     "iopub.status.idle": "2025-02-15T17:16:47.341942Z",
     "shell.execute_reply": "2025-02-15T17:16:47.340299Z",
     "shell.execute_reply.started": "2025-02-15T17:16:47.334232Z"
    },
    "slideshow": {
     "slide_type": ""
    },
    "tags": []
   },
   "outputs": [],
   "source": [
    "cubic = True\n",
    "\n",
    "@jit\n",
    "def get_mag(params):\n",
    "    s, q, rho, alpha, u0, t0, tE = params\n",
    "    tau = (t - t0)/tE\n",
    "    y1 = -u0*jnp.sin(alpha) + tau*jnp.cos(alpha)\n",
    "    y2 = u0*jnp.cos(alpha) + tau*jnp.sin(alpha) \n",
    "\n",
    "    _params = {\"q\": q, \"s\": s}\n",
    "    w_points = jnp.array(y1 + y2 * 1j, dtype=complex)\n",
    "    return w_points, mag_lc_uniform(w_points, rho, nlenses=2, q=q, s=s, cubic=cubic, Nlimb=2000,\n",
    "                                    r_resolution=r_resolution, th_resolution=th_resolution)"
   ]
  },
  {
   "cell_type": "code",
   "execution_count": null,
   "id": "1117184f-e4d6-4976-acd5-a596ea39430d",
   "metadata": {
    "editable": true,
    "execution": {
     "iopub.execute_input": "2025-02-15T17:16:47.351322Z",
     "iopub.status.busy": "2025-02-15T17:16:47.350996Z"
    },
    "slideshow": {
     "slide_type": ""
    },
    "tags": []
   },
   "outputs": [
    {
     "name": "stdout",
     "output_type": "stream",
     "text": [
      "mag finish: 22.897 sec\n",
      "jit finish: 0.000 sec\n"
     ]
    }
   ],
   "source": [
    "import time\n",
    "start = time.time()\n",
    "params = jnp.array([s, q, rho, alpha, u0, t0, tE])\n",
    "w_points, A = get_mag(params)\n",
    "end = time.time()\n",
    "print(\"mag finish: %.3f sec\"%(end-start))\n",
    "# Evaluate the Jacobian at every point\n",
    "start = time.time()\n",
    "mag_jac = jit(jacfwd(lambda params: get_mag(params)[1]))\n",
    "end = time.time()\n",
    "print(\"jit finish: %.3f sec\"%(end-start))\n",
    "#mag_jac = jit(jacrev(lambda params: get_mag(params)[1])) # memory error\n",
    "start = time.time()\n",
    "jac_eval = mag_jac(params)\n",
    "end = time.time()\n",
    "print(\"jac finish: %.3f sec\"%(end-start))"
   ]
  },
  {
   "cell_type": "code",
   "execution_count": null,
   "id": "30eab6b0-b7ab-417a-aeaa-10aff21b9ac5",
   "metadata": {},
   "outputs": [],
   "source": [
    "fig, ax = plt.subplots(\n",
    "    8, 1,\n",
    "    figsize=(14, 14),\n",
    "    gridspec_kw={'height_ratios': [4, 1, 1, 1, 1, 1, 1, 1], 'wspace':0.3},\n",
    "    sharex=True,\n",
    ")\n",
    "# Inset axes for images\n",
    "ax_in = inset_axes(ax[0],\n",
    "    width=\"60%\", # \n",
    "    height=\"60%\", \n",
    "    bbox_transform=ax[0].transAxes,\n",
    "    bbox_to_anchor=(-0.4, 0.05, .9, .9),\n",
    ")\n",
    "ax_in.set_aspect(1)\n",
    "ax_in.set(xlabel=\"$\\mathrm{Re}(w)$\", ylabel=\"$\\mathrm{Im}(w)$\")\n",
    "\n",
    "critical_curves, caustic_curves = critical_and_caustic_curves(nlenses=2, npts=100, s=s, q=q)\n",
    "for cc in caustic_curves:\n",
    "    ax_in.plot(cc.real, cc.imag, color='black', lw=0.7)\n",
    "\n",
    "circles = [\n",
    "    plt.Circle((xi,yi), radius=rho, fill=False, facecolor=None, zorder=-1) for xi,yi in zip(w_points.real, w_points.imag)\n",
    "]\n",
    "c = mpl.collections.PatchCollection(circles, match_original=True, alpha=0.05)\n",
    "\n",
    "ax_in.add_collection(c)\n",
    "ax_in.set_aspect(1)\n",
    "ax_in.set(xlim=(-1., 1.2), ylim=(-0.8, 1.))\n",
    "\n",
    "ax[0].plot(t, A, color='black', lw=2)\n",
    "\n",
    "for i, _a in enumerate(ax[1:]):\n",
    "    _a.plot(t, jac_eval[:, i], lw=2., color='C0')\n",
    "\n",
    "labels = [\n",
    "    r'$A(t)$',\n",
    "    r'$\\frac{\\partial A}{\\partial s}$', r'$\\frac{\\partial A}{\\partial q}$', r'$\\frac{\\partial A}{\\partial \\rho}$',\n",
    "     r'$\\frac{\\partial A}{\\partial \\alpha}$', r'$\\frac{\\partial A}{\\partial u_0}$', r'$\\frac{\\partial A}{\\partial t_0}$', \n",
    "     r'$\\frac{\\partial A}{\\partial t_E}$'\n",
    "]\n",
    "\n",
    "labelx = -0.07  # axes coords\n",
    "for i, _a in enumerate(ax):\n",
    "    _a.set_ylabel(\n",
    "        labels[i], \n",
    "        rotation=0, \n",
    "        verticalalignment='center',\n",
    "        horizontalalignment='right',\n",
    "        fontsize=20,\n",
    "    )\n",
    "    _a.yaxis.set_label_coords(labelx, 0.5)\n",
    "    _a.xaxis.set_minor_locator(AutoMinorLocator())\n",
    "    _a.yaxis.set_minor_locator(AutoMinorLocator())\n",
    "\n",
    "ax[-1].set_xlabel('$t$ [days]')\n",
    "ax_in.set_rasterization_zorder(0)"
   ]
  },
  {
   "cell_type": "code",
   "execution_count": null,
   "id": "b6f2cc95-6329-461c-80c0-bd3482cf7381",
   "metadata": {
    "editable": true,
    "slideshow": {
     "slide_type": ""
    },
    "tags": []
   },
   "outputs": [],
   "source": []
  }
 ],
 "metadata": {
  "kernelspec": {
   "display_name": "Python 3",
   "language": "python",
   "name": "python3"
  },
  "language_info": {
   "codemirror_mode": {
    "name": "ipython",
    "version": 3
   },
   "file_extension": ".py",
   "mimetype": "text/x-python",
   "name": "python",
   "nbconvert_exporter": "python",
   "pygments_lexer": "ipython3",
   "version": "3.9.5"
  }
 },
 "nbformat": 4,
 "nbformat_minor": 5
}

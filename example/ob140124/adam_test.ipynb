{
 "cells": [
  {
   "cell_type": "code",
   "execution_count": 16,
   "id": "00d6e324-9597-4c94-97b9-b4ba9924b6ca",
   "metadata": {
    "editable": true,
    "execution": {
     "iopub.execute_input": "2025-02-14T07:45:42.946806Z",
     "iopub.status.busy": "2025-02-14T07:45:42.946342Z",
     "iopub.status.idle": "2025-02-14T07:45:42.963954Z",
     "shell.execute_reply": "2025-02-14T07:45:42.963296Z",
     "shell.execute_reply.started": "2025-02-14T07:45:42.946773Z"
    },
    "slideshow": {
     "slide_type": ""
    },
    "tags": []
   },
   "outputs": [
    {
     "name": "stdout",
     "output_type": "stream",
     "text": [
      "Number of data: 2283\n"
     ]
    }
   ],
   "source": [
    "import pandas as pd\n",
    "import numpy as np\n",
    "import jax.numpy as jnp\n",
    "from jax import config\n",
    "from jax import jacfwd, vmap\n",
    "config.update('jax_enable_x64', True) \n",
    "import matplotlib.pyplot as plt\n",
    "plt.rcParams[\"figure.figsize\"] = (12,4)\n",
    "from microjax.inverse_ray.lightcurve import mag_lc, mag_uniform\n",
    "\n",
    "data = pd.read_csv(\"../data/ogle-2014-blg-0124/phot.dat\", \n",
    "                   delim_whitespace=True,header=None, names=[\"HJD\", \"mag\", \"mage\", \"seeing\", \"sky\"])\n",
    "data[\"HJD\"] -= 2450000\n",
    "data = data[data.HJD>6600]\n",
    "mag0 = 18.0\n",
    "data[\"flux\"] = 10**(-0.4*(data.mag - mag0))\n",
    "data[\"fluxe\"] = data.flux * 0.4 * np.log(10) * data.mage\n",
    "print(\"Number of data: %d\"%(len(data)))"
   ]
  },
  {
   "cell_type": "code",
   "execution_count": 17,
   "id": "ad37e491-d26a-4f31-a73d-83f234102cc8",
   "metadata": {
    "editable": true,
    "execution": {
     "iopub.execute_input": "2025-02-14T07:45:43.080769Z",
     "iopub.status.busy": "2025-02-14T07:45:43.079988Z",
     "iopub.status.idle": "2025-02-14T07:45:43.092597Z",
     "shell.execute_reply": "2025-02-14T07:45:43.091660Z",
     "shell.execute_reply.started": "2025-02-14T07:45:43.080701Z"
    },
    "slideshow": {
     "slide_type": ""
    },
    "tags": []
   },
   "outputs": [],
   "source": [
    "def log_likelihood(params, t, y, yerr):\n",
    "    t0, u0, lntE, lns, lnq, alpha, lnrho, fs, f_sum = params\n",
    "    tE = jnp.exp(lntE)\n",
    "    s = jnp.exp(lns)\n",
    "    q = jnp.exp(lnq)\n",
    "    alpha_rad = jnp.radians(alpha)\n",
    "    rho = jnp.exp(lnrho)\n",
    "    tau = (t - t0) / tE\n",
    "    um = u0\n",
    "    y1 = -um * jnp.sin(alpha_rad) + tau * jnp.cos(alpha_rad)\n",
    "    y2 = um * jnp.cos(alpha_rad) + tau * jnp.sin(alpha_rad)\n",
    "    w_points = jnp.array(y1 + y2 * 1j, dtype=complex)\n",
    "    mag_func = lambda w: mag_uniform(w, rho, q=q, s=s, r_resolution=100, th_resolution=100)\n",
    "    mags = vmap(mag_func)(w_points)\n",
    "    fb = f_sum - fs\n",
    "    f_model = mags * fs + fb\n",
    "    residuals = y - f_model\n",
    "    N = len(y)\n",
    "    sigma = yerr \n",
    "    loglike = -0.5 * jnp.sum((residuals / sigma) ** 2) - 0.5 * N * jnp.log(2 * jnp.pi) - jnp.sum(jnp.log(sigma))\n",
    "    return loglike"
   ]
  },
  {
   "cell_type": "code",
   "execution_count": 18,
   "id": "1bb3741d-39fc-4526-8628-d5c41ba9355a",
   "metadata": {
    "editable": true,
    "execution": {
     "iopub.execute_input": "2025-02-14T07:45:43.230263Z",
     "iopub.status.busy": "2025-02-14T07:45:43.229516Z",
     "iopub.status.idle": "2025-02-14T07:45:43.240840Z",
     "shell.execute_reply": "2025-02-14T07:45:43.240064Z",
     "shell.execute_reply.started": "2025-02-14T07:45:43.230198Z"
    },
    "slideshow": {
     "slide_type": ""
    },
    "tags": []
   },
   "outputs": [],
   "source": [
    "def get_gradients(params, t, y, yerr):\n",
    "    return jacfwd(log_likelihood)(params, t, y, yerr)\n",
    "\n",
    "params_init = jnp.array([6.83640951e+03, 2.24211333e-01, jnp.log(1.33559958e+02), jnp.log(9.16157288e-01),\n",
    "                         jnp.log(5.87559438e-04), 1.00066409e+02, jnp.log(2.44003713e-03), 8.06074085e-01, 8.62216897e-01])"
   ]
  },
  {
   "cell_type": "code",
   "execution_count": 19,
   "id": "c039508e-742a-42e4-ab24-0e197ad0f269",
   "metadata": {
    "editable": true,
    "execution": {
     "iopub.execute_input": "2025-02-14T07:45:43.403995Z",
     "iopub.status.busy": "2025-02-14T07:45:43.403285Z",
     "iopub.status.idle": "2025-02-14T07:45:43.412048Z",
     "shell.execute_reply": "2025-02-14T07:45:43.411041Z",
     "shell.execute_reply.started": "2025-02-14T07:45:43.403936Z"
    },
    "slideshow": {
     "slide_type": ""
    },
    "tags": []
   },
   "outputs": [],
   "source": [
    "import optax\n",
    "optimizer = optax.adam(learning_rate=1e-3)\n",
    "opt_state = optimizer.init(params_init)"
   ]
  },
  {
   "cell_type": "code",
   "execution_count": null,
   "id": "9c32542f-a68d-48a4-b316-440def596e22",
   "metadata": {
    "editable": true,
    "execution": {
     "iopub.execute_input": "2025-02-14T07:45:43.890488Z",
     "iopub.status.busy": "2025-02-14T07:45:43.889780Z"
    },
    "slideshow": {
     "slide_type": ""
    },
    "tags": []
   },
   "outputs": [
    {
     "name": "stdout",
     "output_type": "stream",
     "text": [
      "Iteration 0, Log-Likelihood: -1113959.5676480585\n",
      "Iteration 10, Log-Likelihood: -1408550.9511158466\n",
      "Iteration 20, Log-Likelihood: -1707445.4057680892\n",
      "Iteration 30, Log-Likelihood: -2016732.856843921\n",
      "Iteration 40, Log-Likelihood: -2337879.3302009525\n",
      "Iteration 50, Log-Likelihood: -2659624.2271432285\n",
      "Iteration 60, Log-Likelihood: -2986532.6398288063\n",
      "Iteration 70, Log-Likelihood: -3322211.684732432\n",
      "Iteration 80, Log-Likelihood: -3644704.553946016\n",
      "Iteration 90, Log-Likelihood: -3963899.055905881\n",
      "Iteration 100, Log-Likelihood: -4284765.789383183\n",
      "Iteration 110, Log-Likelihood: -4603237.451563558\n",
      "Iteration 120, Log-Likelihood: -4906923.113087061\n"
     ]
    }
   ],
   "source": [
    "num_iterations = 1000\n",
    "for i in range(num_iterations):\n",
    "    grads = get_gradients(params_init, data.HJD.values, data.flux.values, data.fluxe.values)\n",
    "    updates, opt_state = optimizer.update(grads, opt_state)\n",
    "    params_init = optax.apply_updates(params_init, updates)\n",
    "    \n",
    "    if i % 10 == 0:\n",
    "        loglike_val = log_likelihood(params_init, data.HJD.values, data.flux.values, data.fluxe.values)\n",
    "        print(f\"Iteration {i}, Log-Likelihood: {loglike_val}\")"
   ]
  },
  {
   "cell_type": "code",
   "execution_count": null,
   "id": "7c1a7d45-0660-4372-8a9c-4c4fbd5dca3b",
   "metadata": {
    "editable": true,
    "slideshow": {
     "slide_type": ""
    },
    "tags": []
   },
   "outputs": [],
   "source": []
  },
  {
   "cell_type": "code",
   "execution_count": null,
   "id": "7fa803bb-54e0-471b-bbcc-14d5a1dbcd86",
   "metadata": {},
   "outputs": [],
   "source": []
  },
  {
   "cell_type": "code",
   "execution_count": null,
   "id": "6a15991d-3942-46c6-920b-502cb6a1db5a",
   "metadata": {},
   "outputs": [],
   "source": []
  }
 ],
 "metadata": {
  "kernelspec": {
   "display_name": "Python 3",
   "language": "python",
   "name": "python3"
  },
  "language_info": {
   "codemirror_mode": {
    "name": "ipython",
    "version": 3
   },
   "file_extension": ".py",
   "mimetype": "text/x-python",
   "name": "python",
   "nbconvert_exporter": "python",
   "pygments_lexer": "ipython3",
   "version": "3.9.5"
  }
 },
 "nbformat": 4,
 "nbformat_minor": 5
}

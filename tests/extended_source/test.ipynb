{
 "cells": [
  {
   "cell_type": "code",
   "execution_count": 1,
   "metadata": {},
   "outputs": [
    {
     "name": "stderr",
     "output_type": "stream",
     "text": [
      "WARNING: All log messages before absl::InitializeLog() is called are written to STDERR\n",
      "I0000 00:00:1719898944.041073       1 tfrt_cpu_pjrt_client.cc:349] TfrtCpuClient created.\n"
     ]
    }
   ],
   "source": [
    "from functools import partial\n",
    "import numpy as np\n",
    "import jax.numpy as jnp\n",
    "from jax import jit, lax\n",
    "from microjax.poly_solver import poly_roots_EA_multi as poly_roots\n",
    "from microjax.coeffs import _poly_coeffs_binary, _poly_coeffs_triple \n",
    "from microjax.coeffs import _poly_coeffs_critical_triple, _poly_coeffs_critical_binary\n",
    "from microjax.point_source import _lens_eq_binary, _lens_eq_triple\n",
    "from microjax.point_source import mag_point_source_binary, mag_point_source_triple\n",
    "\n",
    "INDX0 = 2000000\n",
    "indx = jnp.zeros((INDX0 * 2, 4), dtype=int)\n",
    "Nindx = jnp.zeros((INDX0 * 2,), dtype=int)\n",
    "xmax = jnp.zeros((INDX0 * 4,))\n",
    "xmin = jnp.zeros((INDX0 * 4,))\n",
    "Ax = jnp.zeros((INDX0 * 4,))\n",
    "y = jnp.zeros((INDX0 * 4,))\n",
    "dys = jnp.zeros((INDX0 * 4,))"
   ]
  },
  {
   "cell_type": "code",
   "execution_count": 19,
   "metadata": {},
   "outputs": [
    {
     "ename": "TypeError",
     "evalue": "update() missing 1 required positional argument: 'state'",
     "output_type": "error",
     "traceback": [
      "\u001b[0;31m---------------------------------------------------------------------------\u001b[0m",
      "\u001b[0;31mTypeError\u001b[0m                                 Traceback (most recent call last)",
      "Input \u001b[0;32mIn [19]\u001b[0m, in \u001b[0;36m<module>\u001b[0;34m\u001b[0m\n\u001b[1;32m     15\u001b[0m \u001b[38;5;66;03m# 数値的に解を求める\u001b[39;00m\n\u001b[1;32m     16\u001b[0m sol \u001b[38;5;241m=\u001b[39m solver\u001b[38;5;241m.\u001b[39minit_state(x0)\n\u001b[0;32m---> 17\u001b[0m result \u001b[38;5;241m=\u001b[39m \u001b[43msolver\u001b[49m\u001b[38;5;241;43m.\u001b[39;49m\u001b[43mupdate\u001b[49m\u001b[43m(\u001b[49m\u001b[43msol\u001b[49m\u001b[43m)\u001b[49m\n\u001b[1;32m     19\u001b[0m \u001b[38;5;28mprint\u001b[39m(\u001b[38;5;124mf\u001b[39m\u001b[38;5;124m\"\u001b[39m\u001b[38;5;124mThe root found is: \u001b[39m\u001b[38;5;132;01m{\u001b[39;00mresult\u001b[38;5;241m.\u001b[39mparams\u001b[38;5;132;01m}\u001b[39;00m\u001b[38;5;124m\"\u001b[39m)\n",
      "\u001b[0;31mTypeError\u001b[0m: update() missing 1 required positional argument: 'state'"
     ]
    }
   ],
   "source": [
    "import jax\n",
    "import jax.numpy as jnp\n",
    "from jaxopt import Bisection\n",
    "\n",
    "# 数値的な反復を使用する関数の定義\n",
    "def func(x):\n",
    "    # 例として、3次方程式の根を求めるために数値的反復を使う\n",
    "    # 実際にはここで複雑な数値計算や反復が入る場合があります\n",
    "    y = x\n",
    "    for _ in range(10):  # ある程度の反復回数\n",
    "        y = y - (y**3 - 2 * y**2 - 5) / (3 * y**2 - 4 * y)  # ニュートン法のステップ\n",
    "    return y**3 - 2 * y**2 - 5\n",
    "\n",
    "# Bisectionオプティマイザーの設定\n",
    "solver = Bisection(fun=func, lower=1.0, upper=4.0, maxiter=100, tol=1e-5)\n",
    "\n",
    "# 解の探索\n",
    "result = solver.run()\n",
    "\n",
    "print(\"Found root:\", result.params)\n",
    "print(\"Function value at root:\", result.state.fun_val)"
   ]
  },
  {
   "cell_type": "code",
   "execution_count": null,
   "metadata": {},
   "outputs": [],
   "source": []
  }
 ],
 "metadata": {
  "kernelspec": {
   "display_name": "Python 3",
   "language": "python",
   "name": "python3"
  },
  "language_info": {
   "codemirror_mode": {
    "name": "ipython",
    "version": 3
   },
   "file_extension": ".py",
   "mimetype": "text/x-python",
   "name": "python",
   "nbconvert_exporter": "python",
   "pygments_lexer": "ipython3",
   "version": "3.9.5"
  }
 },
 "nbformat": 4,
 "nbformat_minor": 2
}
